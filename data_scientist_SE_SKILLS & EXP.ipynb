{
 "cells": [
  {
   "cell_type": "code",
   "execution_count": 1,
   "id": "268134c2",
   "metadata": {},
   "outputs": [
    {
     "name": "stdout",
     "output_type": "stream",
     "text": [
      "New CSV file created!\n"
     ]
    }
   ],
   "source": [
    "import pandas as pd\n",
    "import re\n",
    "\n",
    "# Read data from CSV file\n",
    "data = pd.read_csv(r'C:\\Users\\kulwi\\Desktop\\DON VALLEY\\linkedin_data_collection\\jun15\\Scientist.csv')\n",
    "\n",
    "# Define a function to extract skills from job descriptions using regular expressions\n",
    "def extract_skills(text):\n",
    "    # List of skills to search for\n",
    "    skills_list = ['Python', 'R', 'SQL', 'Machine Learning', 'Data Analysis', 'Statistics']\n",
    "\n",
    "    # Create a regex pattern to match each skill in the list\n",
    "    pattern = '|'.join(skills_list)\n",
    "\n",
    "    # Search for the pattern in the text and return a list of all matches\n",
    "    matches = re.findall(pattern, text, flags=re.IGNORECASE)\n",
    "\n",
    "    # Remove duplicate matches and join the skills into a comma-separated string\n",
    "    skills = ', '.join(list(set(matches)))\n",
    "\n",
    "    # Return the string of skills\n",
    "    return skills\n",
    "\n",
    "# Define a function to extract experience from job descriptions using regular expressions\n",
    "def extract_experience(text):\n",
    "    # Create a regex pattern to match experience in the text\n",
    "    pattern = r'([0-9]+)\\s*(?:\\+|-|\\bto\\b)\\s*([0-9]*)\\s*(?:years?|yrs?)\\b'\n",
    "\n",
    "    # Search for the pattern in the text and return the first match\n",
    "    match = re.search(pattern, text, flags=re.IGNORECASE)\n",
    "\n",
    "    # If a match is found, return the experience as a string without the dash character\n",
    "    if match:\n",
    "        start_year = match.group(1)\n",
    "        end_year = match.group(2) if match.group(2) else ''\n",
    "        experience = start_year + ' to ' + end_year if end_year else start_year\n",
    "        return experience\n",
    "    else:\n",
    "        return 'not mentioned'\n",
    "\n",
    "# Create a new data frame with the \"Skills\" and \"Experience\" columns\n",
    "skills_df = pd.DataFrame(data)\n",
    "skills_df['Skills'] = skills_df['Job description'].apply(extract_skills)\n",
    "skills_df['Experience'] = skills_df['Job description'].apply(extract_experience)\n",
    "\n",
    "# Write the updated data frame to a new CSV file\n",
    "skills_df.to_csv('Data Scientist_jobs_with_skills_and_experience_new.csv', index=False)\n",
    "\n",
    "# Print a confirmation message\n",
    "print(\"New CSV file created!\")\n"
   ]
  },
  {
   "cell_type": "code",
   "execution_count": null,
   "id": "7b4c84c6",
   "metadata": {},
   "outputs": [],
   "source": []
  }
 ],
 "metadata": {
  "kernelspec": {
   "display_name": "Python 3 (ipykernel)",
   "language": "python",
   "name": "python3"
  },
  "language_info": {
   "codemirror_mode": {
    "name": "ipython",
    "version": 3
   },
   "file_extension": ".py",
   "mimetype": "text/x-python",
   "name": "python",
   "nbconvert_exporter": "python",
   "pygments_lexer": "ipython3",
   "version": "3.9.13"
  }
 },
 "nbformat": 4,
 "nbformat_minor": 5
}
